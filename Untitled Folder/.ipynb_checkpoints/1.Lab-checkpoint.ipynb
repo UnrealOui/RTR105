{
 "cells": [
  {
   "cell_type": "markdown",
   "metadata": {},
   "source": [
    "### 1. Laboratorijas darbs (Class - 14 - Teilora rinda)"
   ]
  },
  {
   "cell_type": "markdown",
   "metadata": {},
   "source": [
    "Izvelamies nepieciesamas funkcijas (Sin un Sakne)."
   ]
  },
  {
   "cell_type": "code",
   "execution_count": 1,
   "metadata": {},
   "outputs": [],
   "source": [
    "from math import sin, sqrt"
   ]
  },
  {
   "cell_type": "markdown",
   "metadata": {},
   "source": [
    "Veidojam funkcijas defeniciju un ciklu ar robezam."
   ]
  },
  {
   "cell_type": "code",
   "execution_count": 2,
   "metadata": {},
   "outputs": [],
   "source": [
    "def mans_sinuss(x):\n",
    "    n = 1\n",
    "    a = 2*x/2\n",
    "    S = a\n",
    "    print(\"a1 = %6.2f S1 = %6.2f\"%(a,S))\n",
    "\n",
    "    while n <= 500:\n",
    "        n = n + 1\n",
    "        R = (-1)*x*2**2/((2*n-1)*(2*n))\n",
    "        a = a * R\n",
    "        S = S + a\n",
    "        if n == 499:\n",
    "            print(\"a%d = %6.8f S%d = %6.8f\"%(n,a,n,S))\n",
    "        if n == 500:\n",
    "            print(\"a%d = %6.8f S%d = %6.8f\"%(n,a,n,S))\n",
    "\n",
    "    return S"
   ]
  },
  {
   "cell_type": "markdown",
   "metadata": {},
   "source": [
    "Izprintejam visu."
   ]
  },
  {
   "cell_type": "code",
   "execution_count": 3,
   "metadata": {},
   "outputs": [
    {
     "name": "stdout",
     "output_type": "stream",
     "text": [
      "------------------------\n",
      "SIN function calculation:\n",
      "------------------------\n",
      "Ievadi argumentu (x): 10\n",
      "------------------------\n",
      "A.I. SIN: 0.00042780847653523283\n",
      "\n",
      "a1 =  10.00 S1 =  10.00\n",
      "a499 = 0.00000000 S499 = 0.00042781\n",
      "a500 = -0.00000000 S500 = 0.00042781\n",
      "\n",
      "Bag of bones SIN: 0.00042780847652964865\n",
      "\n",
      "            500\n",
      "          ------\n",
      "          \\               n+1    n    2*n-1\n",
      "           \\          (-1)    * x  * 2\n",
      "sin 10.0    =>      ----------------------\n",
      "           /               (2*n)!\n",
      "          /\n",
      "          ------\n",
      "             n=1\n",
      "\n",
      "                                     2\n",
      "                         (-1) * x * 2\n",
      "Rekurencez reizinatajs: ----------------\n",
      "                        (2*n-1) * (2*n)\n"
     ]
    }
   ],
   "source": [
    "print(\"------------------------\")\n",
    "print(\"SIN function calculation:\")\n",
    "print(\"------------------------\")\n",
    "x = float(input(\"Ievadi argumentu (x): \"))\n",
    "print(\"------------------------\")\n",
    "y = sin(sqrt(x)) * sin(sqrt(x))\n",
    "#tas ir datora aprekinasana ar sin un sqrt funkciju\n",
    "print(\"A.I. SIN:\", y)\n",
    "print(\"\")\n",
    "yy = mans_sinuss(x)\n",
    "#tas ir musu aprekinasana\n",
    "print(\"\")\n",
    "print(\"Bag of bones SIN:\", yy)\n",
    "print(\"\")\n",
    "\n",
    "#zimejam funkciju ar print comandu (vizualizacija)\n",
    "print(\"            500\")\n",
    "print(\"          ------\")\n",
    "print(\"          \\\\               n+1    n    2*n-1\")\n",
    "print(\"           \\\\          (-1)    * x  * 2\")\n",
    "print(\"sin\", x,\"   =>      ----------------------\")\n",
    "print(\"           /               (2*n)!\")\n",
    "print(\"          /\")\n",
    "print(\"          ------\")\n",
    "print(\"             n=1\")\n",
    "\n",
    "print(\"\")\n",
    "\n",
    "print(\"                                     2\")\n",
    "print(\"                         (-1) * x * 2\")\n",
    "print(\"Rekurencez reizinatajs: ----------------\")\n",
    "print(\"                        (2*n-1) * (2*n)\")"
   ]
  },
  {
   "cell_type": "markdown",
   "metadata": {},
   "source": [
    "Ka mes redzam atbildes apmeram sakrit."
   ]
  }
 ],
 "metadata": {
  "kernelspec": {
   "display_name": "Python 3",
   "language": "python",
   "name": "python3"
  },
  "language_info": {
   "codemirror_mode": {
    "name": "ipython",
    "version": 3
   },
   "file_extension": ".py",
   "mimetype": "text/x-python",
   "name": "python",
   "nbconvert_exporter": "python",
   "pygments_lexer": "ipython3",
   "version": "3.6.7"
  }
 },
 "nbformat": 4,
 "nbformat_minor": 2
}
