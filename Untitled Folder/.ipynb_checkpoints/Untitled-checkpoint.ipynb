{
 "cells": [
  {
   "cell_type": "markdown",
   "metadata": {},
   "source": [
    "### 1. Laboratorijas darbs (Class - 14 - Teilora rinda)"
   ]
  },
  {
   "cell_type": "code",
   "execution_count": null,
   "metadata": {},
   "outputs": [],
   "source": [
    "from math import sin, sqrt"
   ]
  },
  {
   "cell_type": "markdown",
   "metadata": {},
   "source": [
    "izvelamies nepieciesamas funkcijas (musu gadijuma Sin un Sakne)"
   ]
  },
  {
   "cell_type": "code",
   "execution_count": null,
   "metadata": {},
   "outputs": [],
   "source": [
    "def mans_sinuss(x):\n",
    "    n = 1\n",
    "    a = 2*x/2\n",
    "    S = a\n",
    "    print(\"a1 = %6.2f S1 = %6.2f\"%(a,S))\n",
    "\n",
    "    while n <= 500:\n",
    "        n = n + 1\n",
    "        R = (-1)*x*2**2/((2*n-1)*(2*n))\n",
    "        a = a * R\n",
    "        S = S + a\n",
    "        if n == 499:\n",
    "            print(\"a%d = %6.8f S%d = %6.8f\"%(n,a,n,S))\n",
    "        if n == 500:\n",
    "            print(\"a%d = %6.8f S%d = %6.8f\"%(n,a,n,S))\n",
    "\n",
    "    return S"
   ]
  },
  {
   "cell_type": "markdown",
   "metadata": {},
   "source": [
    "Veidojam funkcijas defeniciju un ciklu ar robezam"
   ]
  },
  {
   "cell_type": "code",
   "execution_count": null,
   "metadata": {},
   "outputs": [],
   "source": [
    "print(\"------------------------\")\n",
    "print(\"SIN function calculation:\")\n",
    "print(\"------------------------\")\n",
    "x = float(input(\"Ievadi argumentu (x): \"))\n",
    "print(\"------------------------\")\n",
    "y = sin(sqrt(x)) * sin(sqrt(x))\n",
    "print(\"A.I. SIN:\", y)\n",
    "print(\"\")\n",
    "yy = mans_sinuss(x)\n",
    "print(\"\")\n",
    "print(\"Bag of bones SIN:\", yy)\n",
    "print(\"\")\n",
    "\n",
    "print(\"       500                                       \")\n",
    "print(\"     ------                                     \")\n",
    "print(\"     \\\\               n+1    n    2*n-1      \")\n",
    "print(\"      \\\\          (-1)    * x  * 2             \")\n",
    "print(\"sin   =>      ----------------------    \")\n",
    "print(\"      /               (2*n)!                 \")\n",
    "print(\"     /                                             \")\n",
    "print(\"     ------                                      \")\n",
    "print(\"        n=1                                       \")\n",
    "\n",
    "print(\"\")\n",
    "\n",
    "print(\"                  2  \")\n",
    "print(\"      (-1) * x * 2    \")\n",
    "print(\"R: ----------------\")\n",
    "print(\"    (2*n-1) * (2*n)\")"
   ]
  },
  {
   "cell_type": "code",
   "execution_count": null,
   "metadata": {},
   "outputs": [],
   "source": []
  }
 ],
 "metadata": {
  "kernelspec": {
   "display_name": "Python 3",
   "language": "python",
   "name": "python3"
  }
 },
 "nbformat": 4,
 "nbformat_minor": 2
}
